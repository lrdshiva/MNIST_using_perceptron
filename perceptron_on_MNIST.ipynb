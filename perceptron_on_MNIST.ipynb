{
  "nbformat": 4,
  "nbformat_minor": 0,
  "metadata": {
    "colab": {
      "name": "perceptron on MNIST.ipynb",
      "version": "0.3.2",
      "provenance": [],
      "include_colab_link": true
    },
    "kernelspec": {
      "name": "python3",
      "display_name": "Python 3"
    },
    "accelerator": "GPU"
  },
  "cells": [
    {
      "cell_type": "markdown",
      "metadata": {
        "id": "view-in-github",
        "colab_type": "text"
      },
      "source": [
        "[View in Colaboratory](https://colab.research.google.com/github/lrdshiva/MNIST_using_perceptron/blob/master/perceptron_on_MNIST.ipynb)"
      ]
    },
    {
      "metadata": {
        "id": "yIzIMjqEqk7P",
        "colab_type": "code",
        "colab": {
          "base_uri": "https://localhost:8080/",
          "height": 170
        },
        "outputId": "c7ee3432-f281-4673-ef3d-358538d0be50"
      },
      "cell_type": "code",
      "source": [
        "!pip install -U -q PyDrive\n",
        "!pip install sklearn"
      ],
      "execution_count": 1,
      "outputs": [
        {
          "output_type": "stream",
          "text": [
            "Collecting sklearn\n",
            "  Downloading https://files.pythonhosted.org/packages/1e/7a/dbb3be0ce9bd5c8b7e3d87328e79063f8b263b2b1bfa4774cb1147bfcd3f/sklearn-0.0.tar.gz\n",
            "Requirement already satisfied: scikit-learn in /usr/local/lib/python3.6/dist-packages (from sklearn) (0.19.2)\n",
            "Building wheels for collected packages: sklearn\n",
            "  Running setup.py bdist_wheel for sklearn ... \u001b[?25l-\b \bdone\n",
            "\u001b[?25h  Stored in directory: /root/.cache/pip/wheels/76/03/bb/589d421d27431bcd2c6da284d5f2286c8e3b2ea3cf1594c074\n",
            "Successfully built sklearn\n",
            "Installing collected packages: sklearn\n",
            "Successfully installed sklearn-0.0\n"
          ],
          "name": "stdout"
        }
      ]
    },
    {
      "metadata": {
        "id": "surLPfP9q_om",
        "colab_type": "code",
        "colab": {}
      },
      "cell_type": "code",
      "source": [
        "# the following code enables us to transfer data directly from our google drive account.\n",
        "# visit https://pythonhosted.org/PyDrive/ for details\n",
        "from google.colab import files\n",
        "\n",
        "from pydrive.auth import GoogleAuth\n",
        "from pydrive.drive import GoogleDrive\n",
        "from google.colab import auth\n",
        "from oauth2client.client import GoogleCredentials\n",
        "\n",
        "# 1. Authenticate and create the PyDrive client.\n",
        "auth.authenticate_user()\n",
        "gauth = GoogleAuth()\n",
        "gauth.credentials = GoogleCredentials.get_application_default()\n",
        "drive = GoogleDrive(gauth)"
      ],
      "execution_count": 0,
      "outputs": []
    },
    {
      "metadata": {
        "id": "5QbokvuMrKfk",
        "colab_type": "code",
        "colab": {}
      },
      "cell_type": "code",
      "source": [
        "# imports from drive account and be sure to get the id of the shareable link \n",
        "# i downloaded the dataset in csv format from the following link and uploaded in drive\n",
        "# https://pjreddie.com/projects/mnist-in-csv/\n",
        "\n",
        "train_df = drive.CreateFile({'id':'1L6yemQMJWFM3wvsPPlk5GQMu-LxmhI2O'}) \n",
        "\n",
        "test_df = drive.CreateFile({'id':'1oAki5WrvXajt0iaBHshx1ShKRTixgD7y'})"
      ],
      "execution_count": 0,
      "outputs": []
    },
    {
      "metadata": {
        "id": "I--IQqU3uKYJ",
        "colab_type": "code",
        "colab": {}
      },
      "cell_type": "code",
      "source": [
        "#data dependencies\n",
        "import pandas as pd\n",
        "import numpy as np\n",
        "import matplotlib.pyplot as plt\n",
        "from sklearn.preprocessing import StandardScaler\n",
        "from sklearn.linear_model import Perceptron\n",
        "from sklearn.metrics import accuracy_score\n",
        "\n",
        "\n",
        "train_df.GetContentFile('mnist_train.csv')\n",
        "test_df.GetContentFile('mnist_test.csv')"
      ],
      "execution_count": 0,
      "outputs": []
    },
    {
      "metadata": {
        "id": "MsOt1FZsub0X",
        "colab_type": "code",
        "colab": {}
      },
      "cell_type": "code",
      "source": [
        "train = np.genfromtxt('mnist_train.csv', delimiter = ',')\n",
        "test = np.genfromtxt('mnist_test.csv', delimiter = ',')\n",
        "\n",
        "# extract the X part and y part of data set\n",
        "# as the first col is label data\n",
        "\n",
        "train_X = train[:,1:] \n",
        "test_X = test[:,1:]\n",
        "\n",
        "train_y=train[:,0]\n",
        "test_y=test[:,0]"
      ],
      "execution_count": 0,
      "outputs": []
    },
    {
      "metadata": {
        "id": "5QwVIEVnxh7Z",
        "colab_type": "code",
        "colab": {
          "base_uri": "https://localhost:8080/",
          "height": 364
        },
        "outputId": "908ce710-833a-46a3-bca8-be29578afe08"
      },
      "cell_type": "code",
      "source": [
        "# convert it to 28X28 format to represent it in image\n",
        "img_set = np.zeros((test.shape[0],28,28))\n",
        "img_set= test_X.reshape((-1,28,28))\n",
        "plt.imshow(img_set[0,:,:])"
      ],
      "execution_count": 6,
      "outputs": [
        {
          "output_type": "execute_result",
          "data": {
            "text/plain": [
              "<matplotlib.image.AxesImage at 0x7f4179ade400>"
            ]
          },
          "metadata": {
            "tags": []
          },
          "execution_count": 6
        },
        {
          "output_type": "display_data",
          "data": {
            "image/png": "[encoded data removed]",
            "text/plain": [
              "<matplotlib.figure.Figure at 0x7f41876feb70>"
            ]
          },
          "metadata": {
            "tags": []
          }
        }
      ]
    },
    {
      "metadata": {
        "id": "06Z6bM3fvI4w",
        "colab_type": "code",
        "colab": {
          "base_uri": "https://localhost:8080/",
          "height": 34
        },
        "outputId": "6147f13e-9e40-4d30-bf93-157df722c473"
      },
      "cell_type": "code",
      "source": [
        "print( \"the shape of training mnist data set is \",train.shape,\" and size of test set\",test.shape)"
      ],
      "execution_count": 7,
      "outputs": [
        {
          "output_type": "stream",
          "text": [
            "the shape of training mnist data set is  (60000, 785)  and size of test set (10000, 785)\n"
          ],
          "name": "stdout"
        }
      ]
    },
    {
      "metadata": {
        "id": "j6nKk0QHv_mA",
        "colab_type": "code",
        "colab": {
          "base_uri": "https://localhost:8080/",
          "height": 34
        },
        "outputId": "1a7a7db9-b81d-45a8-ebe8-e2fd6aa670c9"
      },
      "cell_type": "code",
      "source": [
        "#find the number of unique labels in the training set\n",
        "#according to the info given the labels are in col 1\n",
        "unique_y = np.unique(train_y,axis=0)\n",
        "print(\"unique elements= \", unique_y,\" and total = \", unique_y.shape)"
      ],
      "execution_count": 9,
      "outputs": [
        {
          "output_type": "stream",
          "text": [
            "unique elements=  [0. 1. 2. 3. 4. 5. 6. 7. 8. 9.]  and total =  (10,)\n"
          ],
          "name": "stdout"
        }
      ]
    },
    {
      "metadata": {
        "id": "0IeBjPc1z2yI",
        "colab_type": "code",
        "colab": {
          "base_uri": "https://localhost:8080/",
          "height": 102
        },
        "outputId": "d95c4de8-6081-46f3-f4fe-6453b5c8b753"
      },
      "cell_type": "code",
      "source": [
        "ppn = Perceptron(n_iter =2, eta0 =0.1, random_state = 0)\n",
        "\n",
        "ppn.fit(train_X,train_y)"
      ],
      "execution_count": 10,
      "outputs": [
        {
          "output_type": "stream",
          "text": [
            "/usr/local/lib/python3.6/dist-packages/sklearn/linear_model/stochastic_gradient.py:117: DeprecationWarning: n_iter parameter is deprecated in 0.19 and will be removed in 0.21. Use max_iter and tol instead.\n",
            "  DeprecationWarning)\n"
          ],
          "name": "stderr"
        },
        {
          "output_type": "execute_result",
          "data": {
            "text/plain": [
              "Perceptron(alpha=0.0001, class_weight=None, eta0=0.1, fit_intercept=True,\n",
              "      max_iter=None, n_iter=2, n_jobs=1, penalty=None, random_state=0,\n",
              "      shuffle=True, tol=None, verbose=0, warm_start=False)"
            ]
          },
          "metadata": {
            "tags": []
          },
          "execution_count": 10
        }
      ]
    },
    {
      "metadata": {
        "id": "4FJgRNo00DqY",
        "colab_type": "code",
        "colab": {}
      },
      "cell_type": "code",
      "source": [
        "pred_y = ppn.predict(test_X)"
      ],
      "execution_count": 0,
      "outputs": []
    },
    {
      "metadata": {
        "id": "cCWOl_4Q0Fp2",
        "colab_type": "code",
        "colab": {
          "base_uri": "https://localhost:8080/",
          "height": 34
        },
        "outputId": "905b8f7f-0085-48e8-8890-b5d15b02c554"
      },
      "cell_type": "code",
      "source": [
        "print('Accuracy: %.2f' % accuracy_score(test_y, pred_y))"
      ],
      "execution_count": 12,
      "outputs": [
        {
          "output_type": "stream",
          "text": [
            "Accuracy: 0.89\n"
          ],
          "name": "stdout"
        }
      ]
    },
    {
      "metadata": {
        "id": "NUtWJyk50Kjc",
        "colab_type": "code",
        "colab": {
          "base_uri": "https://localhost:8080/",
          "height": 364
        },
        "outputId": "d34e3e8e-e7f3-4cbd-a77f-f55659945648"
      },
      "cell_type": "code",
      "source": [
        "plt.imshow(img_set[0,:,:])"
      ],
      "execution_count": 14,
      "outputs": [
        {
          "output_type": "execute_result",
          "data": {
            "text/plain": [
              "<matplotlib.image.AxesImage at 0x7f4179437e80>"
            ]
          },
          "metadata": {
            "tags": []
          },
          "execution_count": 14
        },
        {
          "output_type": "display_data",
          "data": {
            "image/png": "[encoded data removed]",
            "text/plain": [
              "<matplotlib.figure.Figure at 0x7f4179410278>"
            ]
          },
          "metadata": {
            "tags": []
          }
        }
      ]
    },
    {
      "metadata": {
        "id": "EenmRuTp0QP-",
        "colab_type": "code",
        "colab": {
          "base_uri": "https://localhost:8080/",
          "height": 34
        },
        "outputId": "bf3239ae-2be4-4b2f-d7db-748c95a8cb5a"
      },
      "cell_type": "code",
      "source": [
        "print(\"predicted numbers  \",pred_y[0:10])"
      ],
      "execution_count": 15,
      "outputs": [
        {
          "output_type": "stream",
          "text": [
            "predicted numbers   [7. 2. 1. 0. 4. 1. 4. 9. 6. 9.]\n"
          ],
          "name": "stdout"
        }
      ]
    },
    {
      "metadata": {
        "id": "RRJTYEFL0UD_",
        "colab_type": "code",
        "colab": {
          "base_uri": "https://localhost:8080/",
          "height": 34
        },
        "outputId": "be4e308c-072e-48fa-97fc-1d3afbc1283c"
      },
      "cell_type": "code",
      "source": [
        "print(\"test labels \",test_y[0:10])"
      ],
      "execution_count": 16,
      "outputs": [
        {
          "output_type": "stream",
          "text": [
            "test labels  [7. 2. 1. 0. 4. 1. 4. 9. 5. 9.]\n"
          ],
          "name": "stdout"
        }
      ]
    }
  ]
}